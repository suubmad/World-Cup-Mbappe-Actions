{
 "cells": [
  {
   "cell_type": "code",
   "execution_count": 1,
   "id": "ccb8efb7-402a-49e3-bb20-337077178c6b",
   "metadata": {},
   "outputs": [],
   "source": [
    "#Make a shot map and a pass map using Statsbomb data\n",
    "#Set match id in match_id_required.\n",
    "\n",
    "#Function to draw the pitch\n",
    "import matplotlib.pyplot as plt\n",
    "import numpy as np\n",
    "import pandas as pd\n",
    "\n",
    "from mplsoccer import Pitch\n",
    "from mplsoccer.quiver import arrows"
   ]
  },
  {
   "cell_type": "code",
   "execution_count": 2,
   "id": "16307538-fb0d-40f3-92f6-19eed7737e22",
   "metadata": {},
   "outputs": [],
   "source": [
    "#Size of the pitch in yards (!!!)\n",
    "pitchLengthX=120\n",
    "pitchWidthY=80"
   ]
  },
  {
   "cell_type": "code",
   "execution_count": 3,
   "id": "d1b5ee48-5b89-4402-87d6-76bde0283180",
   "metadata": {},
   "outputs": [],
   "source": [
    "#ID for World Cup\n",
    "match_id_required = 3869685"
   ]
  },
  {
   "cell_type": "code",
   "execution_count": 4,
   "id": "5d6456e9-3ae2-4204-b32f-06292240c708",
   "metadata": {},
   "outputs": [],
   "source": [
    "# Load in the data\n",
    "# I took this from https://znstrider.github.io/2018-11-11-Getting-Started-with-StatsBomb-Data/\n",
    "file_name=str(match_id_required)+'.json'\n",
    "\n",
    "#Load in all match events \n",
    "import json\n",
    "with open('Statsbomb/data/events/'+file_name,encoding=\"utf8\") as data_file:\n",
    "    #print (mypath+'events/'+file)\n",
    "    data = json.load(data_file)"
   ]
  },
  {
   "cell_type": "code",
   "execution_count": 5,
   "id": "ab1bf47f-635b-4794-a9c7-b3b4f564007b",
   "metadata": {},
   "outputs": [],
   "source": [
    "# json file take full page so comment for now\n",
    "# data"
   ]
  },
  {
   "cell_type": "code",
   "execution_count": 6,
   "id": "30781473-63f1-426d-b164-83e8909486f7",
   "metadata": {},
   "outputs": [],
   "source": [
    "#get the nested structure into a dataframe \n",
    "#store the dataframe in a dictionary with the match id as key (remove '.json' from string)\n",
    "\n",
    "df = pd.json_normalize(data, sep = \"_\").assign(match_id = file_name[:-5])"
   ]
  },
  {
   "cell_type": "code",
   "execution_count": 7,
   "id": "5a78d0c5-24c4-4f54-9999-1a86678717f8",
   "metadata": {},
   "outputs": [
    {
     "data": {
      "text/html": [
       "<div>\n",
       "<style scoped>\n",
       "    .dataframe tbody tr th:only-of-type {\n",
       "        vertical-align: middle;\n",
       "    }\n",
       "\n",
       "    .dataframe tbody tr th {\n",
       "        vertical-align: top;\n",
       "    }\n",
       "\n",
       "    .dataframe thead th {\n",
       "        text-align: right;\n",
       "    }\n",
       "</style>\n",
       "<table border=\"1\" class=\"dataframe\">\n",
       "  <thead>\n",
       "    <tr style=\"text-align: right;\">\n",
       "      <th></th>\n",
       "      <th>id</th>\n",
       "      <th>index</th>\n",
       "      <th>period</th>\n",
       "      <th>timestamp</th>\n",
       "      <th>minute</th>\n",
       "      <th>second</th>\n",
       "      <th>possession</th>\n",
       "      <th>duration</th>\n",
       "      <th>type_id</th>\n",
       "      <th>type_name</th>\n",
       "      <th>...</th>\n",
       "      <th>shot_one_on_one</th>\n",
       "      <th>pass_outswinging</th>\n",
       "      <th>shot_aerial_won</th>\n",
       "      <th>foul_committed_advantage</th>\n",
       "      <th>foul_won_advantage</th>\n",
       "      <th>block_offensive</th>\n",
       "      <th>foul_committed_offensive</th>\n",
       "      <th>bad_behaviour_card_id</th>\n",
       "      <th>bad_behaviour_card_name</th>\n",
       "      <th>match_id</th>\n",
       "    </tr>\n",
       "  </thead>\n",
       "  <tbody>\n",
       "    <tr>\n",
       "      <th>0</th>\n",
       "      <td>0584ee21-e3dd-4d9f-95a0-5b5e84be25c3</td>\n",
       "      <td>1</td>\n",
       "      <td>1</td>\n",
       "      <td>00:00:00.000</td>\n",
       "      <td>0</td>\n",
       "      <td>0</td>\n",
       "      <td>1</td>\n",
       "      <td>0.0</td>\n",
       "      <td>35</td>\n",
       "      <td>Starting XI</td>\n",
       "      <td>...</td>\n",
       "      <td>NaN</td>\n",
       "      <td>NaN</td>\n",
       "      <td>NaN</td>\n",
       "      <td>NaN</td>\n",
       "      <td>NaN</td>\n",
       "      <td>NaN</td>\n",
       "      <td>NaN</td>\n",
       "      <td>NaN</td>\n",
       "      <td>NaN</td>\n",
       "      <td>3869685</td>\n",
       "    </tr>\n",
       "    <tr>\n",
       "      <th>1</th>\n",
       "      <td>b32679f8-942e-4122-96a2-015caf75e628</td>\n",
       "      <td>2</td>\n",
       "      <td>1</td>\n",
       "      <td>00:00:00.000</td>\n",
       "      <td>0</td>\n",
       "      <td>0</td>\n",
       "      <td>1</td>\n",
       "      <td>0.0</td>\n",
       "      <td>35</td>\n",
       "      <td>Starting XI</td>\n",
       "      <td>...</td>\n",
       "      <td>NaN</td>\n",
       "      <td>NaN</td>\n",
       "      <td>NaN</td>\n",
       "      <td>NaN</td>\n",
       "      <td>NaN</td>\n",
       "      <td>NaN</td>\n",
       "      <td>NaN</td>\n",
       "      <td>NaN</td>\n",
       "      <td>NaN</td>\n",
       "      <td>3869685</td>\n",
       "    </tr>\n",
       "    <tr>\n",
       "      <th>2</th>\n",
       "      <td>954f6855-de22-46a2-8d09-6fe94eec2b9b</td>\n",
       "      <td>3</td>\n",
       "      <td>1</td>\n",
       "      <td>00:00:00.000</td>\n",
       "      <td>0</td>\n",
       "      <td>0</td>\n",
       "      <td>1</td>\n",
       "      <td>0.0</td>\n",
       "      <td>18</td>\n",
       "      <td>Half Start</td>\n",
       "      <td>...</td>\n",
       "      <td>NaN</td>\n",
       "      <td>NaN</td>\n",
       "      <td>NaN</td>\n",
       "      <td>NaN</td>\n",
       "      <td>NaN</td>\n",
       "      <td>NaN</td>\n",
       "      <td>NaN</td>\n",
       "      <td>NaN</td>\n",
       "      <td>NaN</td>\n",
       "      <td>3869685</td>\n",
       "    </tr>\n",
       "  </tbody>\n",
       "</table>\n",
       "<p>3 rows × 122 columns</p>\n",
       "</div>"
      ],
      "text/plain": [
       "                                     id  index  period     timestamp  minute  \\\n",
       "0  0584ee21-e3dd-4d9f-95a0-5b5e84be25c3      1       1  00:00:00.000       0   \n",
       "1  b32679f8-942e-4122-96a2-015caf75e628      2       1  00:00:00.000       0   \n",
       "2  954f6855-de22-46a2-8d09-6fe94eec2b9b      3       1  00:00:00.000       0   \n",
       "\n",
       "   second  possession  duration  type_id    type_name  ...  shot_one_on_one  \\\n",
       "0       0           1       0.0       35  Starting XI  ...              NaN   \n",
       "1       0           1       0.0       35  Starting XI  ...              NaN   \n",
       "2       0           1       0.0       18   Half Start  ...              NaN   \n",
       "\n",
       "  pass_outswinging  shot_aerial_won foul_committed_advantage  \\\n",
       "0              NaN              NaN                      NaN   \n",
       "1              NaN              NaN                      NaN   \n",
       "2              NaN              NaN                      NaN   \n",
       "\n",
       "   foul_won_advantage block_offensive  foul_committed_offensive  \\\n",
       "0                 NaN             NaN                       NaN   \n",
       "1                 NaN             NaN                       NaN   \n",
       "2                 NaN             NaN                       NaN   \n",
       "\n",
       "  bad_behaviour_card_id bad_behaviour_card_name match_id  \n",
       "0                   NaN                     NaN  3869685  \n",
       "1                   NaN                     NaN  3869685  \n",
       "2                   NaN                     NaN  3869685  \n",
       "\n",
       "[3 rows x 122 columns]"
      ]
     },
     "execution_count": 7,
     "metadata": {},
     "output_type": "execute_result"
    }
   ],
   "source": [
    "df.head(3)"
   ]
  },
  {
   "cell_type": "code",
   "execution_count": 8,
   "id": "0146ddef-0099-49fa-939f-0bef4946134c",
   "metadata": {},
   "outputs": [],
   "source": [
    "#A dataframe of shots\n",
    "#shots = df.loc[df['type_name'] == 'Shot'].set_index('id')"
   ]
  },
  {
   "cell_type": "code",
   "execution_count": 9,
   "id": "78652c77-2ef7-4896-81de-9bcba5507fdb",
   "metadata": {
    "scrolled": true
   },
   "outputs": [
    {
     "data": {
      "text/plain": [
       "Index(['id', 'index', 'period', 'timestamp', 'minute', 'second', 'possession',\n",
       "       'duration', 'type_id', 'type_name',\n",
       "       ...\n",
       "       'shot_one_on_one', 'pass_outswinging', 'shot_aerial_won',\n",
       "       'foul_committed_advantage', 'foul_won_advantage', 'block_offensive',\n",
       "       'foul_committed_offensive', 'bad_behaviour_card_id',\n",
       "       'bad_behaviour_card_name', 'match_id'],\n",
       "      dtype='object', length=122)"
      ]
     },
     "execution_count": 9,
     "metadata": {},
     "output_type": "execute_result"
    }
   ],
   "source": [
    "df.columns"
   ]
  },
  {
   "cell_type": "code",
   "execution_count": 10,
   "id": "6db3a208-7557-4c72-a8ea-3bec1bfb9f1a",
   "metadata": {},
   "outputs": [],
   "source": [
    "pd.set_option('display.max_columns', None)\n",
    "pd.set_option('display.max_rows', None)"
   ]
  },
  {
   "cell_type": "code",
   "execution_count": 11,
   "id": "f897571d-8164-41ec-89a4-f8b1af4326ba",
   "metadata": {},
   "outputs": [
    {
     "data": {
      "text/plain": [
       "['id',\n",
       " 'index',\n",
       " 'period',\n",
       " 'timestamp',\n",
       " 'minute',\n",
       " 'second',\n",
       " 'possession',\n",
       " 'duration',\n",
       " 'type_id',\n",
       " 'type_name',\n",
       " 'possession_team_id',\n",
       " 'possession_team_name',\n",
       " 'play_pattern_id',\n",
       " 'play_pattern_name',\n",
       " 'team_id',\n",
       " 'team_name',\n",
       " 'tactics_formation',\n",
       " 'tactics_lineup',\n",
       " 'related_events',\n",
       " 'location',\n",
       " 'player_id',\n",
       " 'player_name',\n",
       " 'position_id',\n",
       " 'position_name',\n",
       " 'pass_recipient_id',\n",
       " 'pass_recipient_name',\n",
       " 'pass_length',\n",
       " 'pass_angle',\n",
       " 'pass_height_id',\n",
       " 'pass_height_name',\n",
       " 'pass_end_location',\n",
       " 'pass_type_id',\n",
       " 'pass_type_name',\n",
       " 'pass_body_part_id',\n",
       " 'pass_body_part_name',\n",
       " 'carry_end_location',\n",
       " 'pass_switch',\n",
       " 'pass_outcome_id',\n",
       " 'pass_outcome_name',\n",
       " 'ball_receipt_outcome_id',\n",
       " 'ball_receipt_outcome_name',\n",
       " 'under_pressure',\n",
       " 'off_camera',\n",
       " 'counterpress',\n",
       " 'block_deflection',\n",
       " 'pass_deflected',\n",
       " 'foul_won_defensive',\n",
       " 'out',\n",
       " 'pass_cross',\n",
       " 'clearance_head',\n",
       " 'clearance_body_part_id',\n",
       " 'clearance_body_part_name',\n",
       " 'pass_through_ball',\n",
       " 'pass_technique_id',\n",
       " 'pass_technique_name',\n",
       " 'duel_type_id',\n",
       " 'duel_type_name',\n",
       " 'pass_aerial_won',\n",
       " 'interception_outcome_id',\n",
       " 'interception_outcome_name',\n",
       " 'dribble_outcome_id',\n",
       " 'dribble_outcome_name',\n",
       " 'duel_outcome_id',\n",
       " 'duel_outcome_name',\n",
       " 'pass_assisted_shot_id',\n",
       " 'pass_shot_assist',\n",
       " 'shot_statsbomb_xg',\n",
       " 'shot_end_location',\n",
       " 'shot_key_pass_id',\n",
       " 'shot_technique_id',\n",
       " 'shot_technique_name',\n",
       " 'shot_body_part_id',\n",
       " 'shot_body_part_name',\n",
       " 'shot_type_id',\n",
       " 'shot_type_name',\n",
       " 'shot_outcome_id',\n",
       " 'shot_outcome_name',\n",
       " 'shot_freeze_frame',\n",
       " 'goalkeeper_body_part_id',\n",
       " 'goalkeeper_body_part_name',\n",
       " 'goalkeeper_type_id',\n",
       " 'goalkeeper_type_name',\n",
       " 'goalkeeper_outcome_id',\n",
       " 'goalkeeper_outcome_name',\n",
       " 'goalkeeper_technique_id',\n",
       " 'goalkeeper_technique_name',\n",
       " 'goalkeeper_position_id',\n",
       " 'goalkeeper_position_name',\n",
       " 'clearance_right_foot',\n",
       " 'ball_recovery_recovery_failure',\n",
       " 'goalkeeper_end_location',\n",
       " 'pass_inswinging',\n",
       " 'clearance_left_foot',\n",
       " 'clearance_aerial_won',\n",
       " 'foul_committed_type_id',\n",
       " 'foul_committed_type_name',\n",
       " 'shot_first_time',\n",
       " 'foul_committed_penalty',\n",
       " 'foul_won_penalty',\n",
       " 'dribble_nutmeg',\n",
       " 'dribble_overrun',\n",
       " 'clearance_other',\n",
       " 'pass_goal_assist',\n",
       " 'substitution_outcome_id',\n",
       " 'substitution_outcome_name',\n",
       " 'substitution_replacement_id',\n",
       " 'substitution_replacement_name',\n",
       " '50_50_outcome_id',\n",
       " '50_50_outcome_name',\n",
       " 'foul_committed_card_id',\n",
       " 'foul_committed_card_name',\n",
       " 'ball_recovery_offensive',\n",
       " 'shot_one_on_one',\n",
       " 'pass_outswinging',\n",
       " 'shot_aerial_won',\n",
       " 'foul_committed_advantage',\n",
       " 'foul_won_advantage',\n",
       " 'block_offensive',\n",
       " 'foul_committed_offensive',\n",
       " 'bad_behaviour_card_id',\n",
       " 'bad_behaviour_card_name',\n",
       " 'match_id']"
      ]
     },
     "execution_count": 11,
     "metadata": {},
     "output_type": "execute_result"
    }
   ],
   "source": [
    "df.columns.tolist()"
   ]
  },
  {
   "cell_type": "code",
   "execution_count": 12,
   "id": "38eddbc6-49b6-4eb0-ae3c-79eda3cba88e",
   "metadata": {},
   "outputs": [
    {
     "data": {
      "text/plain": [
       "array([   nan,  5487., 10481.,  3604., 29201.,  3026.,  7797., 20572.,\n",
       "        3090.,  5477.,  5507., 27886.,  6909.,  6704.,  5485.,  4445.,\n",
       "        5503.,  2995., 29560.,  3099.,  8519., 38718.,  3009., 22097.,\n",
       "        2972., 19597.,  8217., 24778., 28263., 11990., 11456., 16308.,\n",
       "       11135.,  5743.,  7161.])"
      ]
     },
     "execution_count": 12,
     "metadata": {},
     "output_type": "execute_result"
    }
   ],
   "source": [
    "df.player_id.unique()"
   ]
  },
  {
   "cell_type": "code",
   "execution_count": 13,
   "id": "5cbf0ef2-3ecb-4aad-81e3-3024c6f309ba",
   "metadata": {},
   "outputs": [
    {
     "data": {
      "text/plain": [
       "array([nan, 'Antoine Griezmann', 'Aurélien Djani Tchouaméni',\n",
       "       'Olivier Giroud', 'Nahuel Molina Lucero', 'Adrien Rabiot',\n",
       "       'Rodrigo Javier De Paul', 'Cristian Gabriel Romero',\n",
       "       'Nicolás Hernán Otamendi', 'Ousmane Dembélé',\n",
       "       'Nicolás Alejandro Tagliafico', 'Alexis Mac Allister',\n",
       "       'Damián Emiliano Martínez', 'Theo Bernard François Hernández',\n",
       "       'Raphaël Varane', 'Jules Koundé', 'Lionel Andrés Messi Cuccittini',\n",
       "       'Ángel Fabián Di María Hernández', 'Julián Álvarez', 'Hugo Lloris',\n",
       "       'Dayotchanculle Upamecano', 'Enzo Fernandez',\n",
       "       'Kylian Mbappé Lottin', 'Randal Kolo Muani', 'Marcus Thuram',\n",
       "       'Marcos Javier Acuña', 'Kingsley Coman', 'Eduardo Camavinga',\n",
       "       'Gonzalo Ariel Montiel', 'Youssouf Fofana',\n",
       "       'Lautaro Javier Martínez', 'Leandro Daniel Paredes',\n",
       "       'Ibrahima Konaté', 'Paulo Bruno Exequiel Dybala',\n",
       "       'Germán Alejandro Pezzella'], dtype=object)"
      ]
     },
     "execution_count": 13,
     "metadata": {},
     "output_type": "execute_result"
    }
   ],
   "source": [
    "df.player_name.unique()"
   ]
  },
  {
   "cell_type": "code",
   "execution_count": 14,
   "id": "d9ed6af5-3734-45ec-8dbe-da55d5120e74",
   "metadata": {},
   "outputs": [],
   "source": [
    "# df.player_name"
   ]
  },
  {
   "cell_type": "code",
   "execution_count": 15,
   "id": "7f4f75b4-b087-446e-a9fc-fe9051c37e36",
   "metadata": {},
   "outputs": [],
   "source": [
    "# Kylian Mbappé Lottin"
   ]
  },
  {
   "cell_type": "code",
   "execution_count": 16,
   "id": "bad1de57-bc05-44ef-a6ed-43f606077d62",
   "metadata": {},
   "outputs": [
    {
     "data": {
      "text/plain": [
       "'Kylian Mbappé Lottin'"
      ]
     },
     "execution_count": 16,
     "metadata": {},
     "output_type": "execute_result"
    }
   ],
   "source": [
    "df.player_name[210]"
   ]
  },
  {
   "cell_type": "code",
   "execution_count": 17,
   "id": "b8910a8d-b6ed-4420-838c-3b58ff67d2b3",
   "metadata": {
    "scrolled": true
   },
   "outputs": [
    {
     "data": {
      "text/plain": [
       "np.float64(3009.0)"
      ]
     },
     "execution_count": 17,
     "metadata": {},
     "output_type": "execute_result"
    }
   ],
   "source": [
    "df.player_id[210]"
   ]
  },
  {
   "cell_type": "markdown",
   "id": "2095b5a5-33b4-4f39-abab-4d4237426f70",
   "metadata": {},
   "source": [
    "# Mbappe pass data"
   ]
  },
  {
   "cell_type": "code",
   "execution_count": 18,
   "id": "a0e1891b-0cfa-4101-a30e-e8c0808277dc",
   "metadata": {},
   "outputs": [],
   "source": [
    "MBAPPE = 3009\n",
    "df_Mbappe_pass = df[(df['player_id'] == MBAPPE) & (df['type_name'] == 'Pass')].reset_index(drop=True)"
   ]
  },
  {
   "cell_type": "code",
   "execution_count": 19,
   "id": "4108d908-0f5b-4454-a6b4-e98d35288f39",
   "metadata": {},
   "outputs": [
    {
     "data": {
      "text/plain": [
       "0    [38.8, 46.8]\n",
       "Name: location, dtype: object"
      ]
     },
     "execution_count": 19,
     "metadata": {},
     "output_type": "execute_result"
    }
   ],
   "source": [
    "df_Mbappe_pass.location.head(1)"
   ]
  },
  {
   "cell_type": "code",
   "execution_count": 20,
   "id": "5cd75837-d31e-493d-a900-c910a5becbcf",
   "metadata": {},
   "outputs": [],
   "source": [
    "df_Mbappe_pass[['x_start','y_start']] = pd.DataFrame(df_Mbappe_pass.location.tolist(), index=df_Mbappe_pass.index)\n",
    "df_Mbappe_pass[['x_end','y_end']] = pd.DataFrame(df_Mbappe_pass.pass_end_location.tolist(), index=df_Mbappe_pass.index)"
   ]
  },
  {
   "cell_type": "code",
   "execution_count": 21,
   "id": "fb47bf57-da83-47d0-9cfe-0ff8cec7af7f",
   "metadata": {},
   "outputs": [],
   "source": [
    "passes = df.loc[df['type_name'] == 'Pass'].set_index('id')"
   ]
  },
  {
   "cell_type": "code",
   "execution_count": 22,
   "id": "e87e3ad0-3fbb-4905-bcc1-efe0d5f6c553",
   "metadata": {},
   "outputs": [
    {
     "data": {
      "image/png": "[encoded data removed]",
      "text/plain": [
       "<Figure size 1000x700 with 1 Axes>"
      ]
     },
     "metadata": {},
     "output_type": "display_data"
    }
   ],
   "source": [
    "#Draw the pitch\n",
    "from FCPython import createPitch\n",
    "(fig,ax) = createPitch(pitchLengthX,pitchWidthY,'yards','gray')\n",
    "#Plot the shots\n",
    "for i,thepass in passes.iterrows():\n",
    "    #if thepass['team_name']==away_team_required: #\n",
    "    if thepass['player_name']=='Kylian Mbappé Lottin':\n",
    "        x=thepass['location'][0]\n",
    "        y=thepass['location'][1]\n",
    "        passCircle=plt.Circle((x,pitchWidthY-y),2,color=\"blue\")      \n",
    "        passCircle.set_alpha(.2)   \n",
    "        ax.add_patch(passCircle)\n",
    "        dx=thepass['pass_end_location'][0]-x\n",
    "        dy=thepass['pass_end_location'][1]-y\n",
    "\n",
    "        passArrow=plt.Arrow(x,pitchWidthY-y,dx,-dy,width=3,color=\"blue\")\n",
    "        ax.add_patch(passArrow)\n",
    "\n",
    "fig.set_size_inches(10, 7)"
   ]
  },
  {
   "cell_type": "code",
   "execution_count": 23,
   "id": "524ed38b-bc0a-4de0-a51b-8f671728d893",
   "metadata": {},
   "outputs": [],
   "source": [
    "#A dataframe of shots\n",
    "shots = df.loc[df['type_name'] == 'Shot'].set_index('id')"
   ]
  },
  {
   "cell_type": "code",
   "execution_count": 24,
   "id": "2aaae191-2e60-4a2b-b207-56dd640707d7",
   "metadata": {},
   "outputs": [],
   "source": [
    "shot=shots.iloc[0]"
   ]
  },
  {
   "cell_type": "code",
   "execution_count": 25,
   "id": "9574246d-867a-49ea-8bfd-1bb0eb5284dc",
   "metadata": {},
   "outputs": [
    {
     "data": {
      "text/plain": [
       "index                                                      192\n",
       "period                                                       1\n",
       "timestamp                                         00:04:40.798\n",
       "minute                                                       4\n",
       "second                                                      40\n",
       "possession                                                  14\n",
       "duration                                               0.94819\n",
       "type_id                                                     16\n",
       "type_name                                                 Shot\n",
       "possession_team_id                                         779\n",
       "possession_team_name                                 Argentina\n",
       "play_pattern_id                                              1\n",
       "play_pattern_name                                 Regular Play\n",
       "team_id                                                    779\n",
       "team_name                                            Argentina\n",
       "tactics_formation                                          NaN\n",
       "tactics_lineup                                             NaN\n",
       "related_events          [109b23ae-6cc9-49d7-888c-0ef1302b8abd]\n",
       "location                                          [92.4, 30.0]\n",
       "Name: 545c2c84-018f-4570-a01c-753823feaeac, dtype: object"
      ]
     },
     "execution_count": 25,
     "metadata": {},
     "output_type": "execute_result"
    }
   ],
   "source": [
    "shot.head(19)"
   ]
  },
  {
   "cell_type": "code",
   "execution_count": 26,
   "id": "683197e1-970c-491d-b91d-6a92a25eae81",
   "metadata": {},
   "outputs": [
    {
     "data": {
      "text/plain": [
       "[92.4, 30.0]"
      ]
     },
     "execution_count": 26,
     "metadata": {},
     "output_type": "execute_result"
    }
   ],
   "source": [
    "shot['location']"
   ]
  },
  {
   "cell_type": "code",
   "execution_count": 27,
   "id": "ed55b25f-1a03-49b6-9175-3e6d68aeb8d2",
   "metadata": {},
   "outputs": [],
   "source": [
    "home_team_required =\"Argentina\"\n",
    "away_team_required =\"France\""
   ]
  },
  {
   "cell_type": "code",
   "execution_count": 28,
   "id": "93756fc5-3d8b-40bd-ba95-bce7bdeac206",
   "metadata": {},
   "outputs": [
    {
     "data": {
      "image/png": "[encoded data removed]",
      "text/plain": [
       "<Figure size 640x480 with 1 Axes>"
      ]
     },
     "metadata": {},
     "output_type": "display_data"
    }
   ],
   "source": [
    "from FCPython import createPitch\n",
    "(fig,ax) = createPitch(pitchLengthX,pitchWidthY,'yards','gray')\n",
    "#Plot the shots\n",
    "for i,shot in shots.iterrows():\n",
    "    x=shot['location'][0]\n",
    "    y=shot['location'][1]\n",
    "    \n",
    "    goal=shot['shot_outcome_name']=='Goal'\n",
    "    team_name=shot['team_name']\n",
    "    \n",
    "    circleSize=2\n",
    "    #circleSize=np.sqrt(shot['shot_statsbomb_xg'])*12\n",
    "\n",
    "    if (team_name==home_team_required):\n",
    "        if goal:\n",
    "            shotCircle=plt.Circle((x,pitchWidthY-y),circleSize,color=\"red\")\n",
    "            plt.text((x+1),pitchWidthY-y+1,shot['player_name']) \n",
    "        else:\n",
    "            shotCircle=plt.Circle((x,pitchWidthY-y),circleSize,color=\"red\")     \n",
    "            shotCircle.set_alpha(.2)\n",
    "    elif (team_name==away_team_required):\n",
    "        if goal:\n",
    "            shotCircle=plt.Circle((pitchLengthX-x,y),circleSize,color=\"blue\") \n",
    "            plt.text((pitchLengthX-x+1),y+1,shot['player_name']) \n",
    "        else:\n",
    "            shotCircle=plt.Circle((pitchLengthX-x,y),circleSize,color=\"blue\")      \n",
    "            shotCircle.set_alpha(.2)\n",
    "    ax.add_patch(shotCircle)"
   ]
  }
 ],
 "metadata": {
  "kernelspec": {
   "display_name": "Python 3 (ipykernel)",
   "language": "python",
   "name": "python3"
  },
  "language_info": {
   "codemirror_mode": {
    "name": "ipython",
    "version": 3
   },
   "file_extension": ".py",
   "mimetype": "text/x-python",
   "name": "python",
   "nbconvert_exporter": "python",
   "pygments_lexer": "ipython3",
   "version": "3.12.4"
  }
 },
 "nbformat": 4,
 "nbformat_minor": 5
}
